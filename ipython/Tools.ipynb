{
 "cells": [
  {
   "cell_type": "code",
   "execution_count": 1,
   "metadata": {
    "collapsed": false
   },
   "outputs": [],
   "source": [
    "import os\n",
    "import sys\n",
    "import glob\n",
    "CMSSW_BASE = os.environ['CMSSW_BASE']"
   ]
  },
  {
   "cell_type": "code",
   "execution_count": 2,
   "metadata": {
    "collapsed": false
   },
   "outputs": [],
   "source": [
    "from IPython.display import display, Image, clear_output\n",
    "import ipywidgets as widgets"
   ]
  },
  {
   "cell_type": "code",
   "execution_count": 3,
   "metadata": {
    "collapsed": false
   },
   "outputs": [],
   "source": [
    "def display_plot(directory,plot,type='png',plotDirectory='{0}/src/plots'.format(CMSSW_BASE)):\n",
    "    img = Image(filename='{0}/{1}/{3}/{2}'.format(plotDirectory,directory,plot,type))\n",
    "    clear_output()\n",
    "    display(img)\n",
    "    \n",
    "def getAllPlots(plotDirectory='{0}/src/plots'.format(CMSSW_BASE)):\n",
    "    allPlots = {}\n",
    "    allPlotDirs = [os.path.basename(d) for d in glob.glob('{0}/*'.format(plotDirectory))]\n",
    "    for subDir in allPlotDirs:\n",
    "        allPlots[subDir] = [os.path.basename(d) for d in glob.glob('{0}/{1}/png/*.png'.format(plotDirectory,subDir))]\n",
    "    return allPlots"
   ]
  },
  {
   "cell_type": "code",
   "execution_count": 18,
   "metadata": {
    "collapsed": false
   },
   "outputs": [],
   "source": [
    "allPlots = getAllPlots()\n",
    "\n",
    "# widgets for display plots menu\n",
    "directoryDropdown = widgets.Dropdown(options=sorted(allPlots.keys()),description='Plot directory:')\n",
    "plotDropdown = widgets.Dropdown(options=sorted(allPlots[directoryDropdown.value]),description='Plot name:')\n",
    "\n",
    "\n",
    "def directory_watcher(sender):\n",
    "    if sender['type']=='change':\n",
    "        if sender['name']=='value':\n",
    "            plotDropdown.options=sorted(allPlots[directoryDropdown.value])\n",
    "directoryDropdown.observe(directory_watcher)\n",
    "\n",
    "def plot_watcher(sender):\n",
    "    if sender['type']=='change':\n",
    "        if sender['name']=='value':\n",
    "            display_plot(directoryDropdown.value, plotDropdown.value)\n",
    "plotDropdown.observe(plot_watcher)\n",
    "\n",
    "# widgets for create plot menu\n",
    "\n",
    "# create a plot menu\n",
    "\n",
    "\n",
    "# flatten directory parameters\n",
    "ntupleSource = widgets.Text(description='Ntuple Source:')\n",
    "treeName = widgets.Text(description='Tree name:')\n",
    "directoryString = widgets.Text(description='Directory:')\n",
    "createDirectoryButton = widgets.Button(description='Create')\n",
    "\n",
    "# menu\n",
    "displayPlotMenu = widgets.HBox(children=[directoryDropdown,plotDropdown])\n",
    "createPlotMenu = widgets.VBox(children=[])\n",
    "createDirectoryMenu = widgets.VBox(children=[ntupleSource,treeName,directoryString,createDirectoryButton])\n",
    "\n",
    "menu = widgets.Tab(children=[displayPlotMenu,createPlotMenu,createDirectoryMenu])\n",
    "menu.set_title(0,'Display Plot')\n",
    "menu.set_title(1,'Create Plot')\n",
    "menu.set_title(2,'Create Directory')"
   ]
  },
  {
   "cell_type": "code",
   "execution_count": 19,
   "metadata": {
    "collapsed": false
   },
   "outputs": [],
   "source": [
    "display(menu)"
   ]
  },
  {
   "cell_type": "code",
   "execution_count": null,
   "metadata": {
    "collapsed": true
   },
   "outputs": [],
   "source": []
  }
 ],
 "metadata": {
  "kernelspec": {
   "display_name": "Python 2",
   "language": "python",
   "name": "python2"
  },
  "language_info": {
   "codemirror_mode": {
    "name": "ipython",
    "version": 2
   },
   "file_extension": ".py",
   "mimetype": "text/x-python",
   "name": "python",
   "nbconvert_exporter": "python",
   "pygments_lexer": "ipython2",
   "version": "2.7.6"
  }
 },
 "nbformat": 4,
 "nbformat_minor": 0
}
