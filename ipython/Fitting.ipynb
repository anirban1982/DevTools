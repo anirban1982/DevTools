{
 "cells": [
  {
   "cell_type": "code",
   "execution_count": 38,
   "metadata": {
    "collapsed": false
   },
   "outputs": [
    {
     "name": "stderr",
     "output_type": "stream",
     "text": [
      "TCanvas::Constructor:0: RuntimeWarning: Deleting canvas with same name: icanvas\n"
     ]
    }
   ],
   "source": [
    "import os\n",
    "import sys\n",
    "import json\n",
    "import math\n",
    "\n",
    "import ROOT\n",
    "\n",
    "from DevTools.Plotter.style import getStyle\n",
    "import DevTools.Plotter.CMS_lumi as CMS_lumi\n",
    "import DevTools.Plotter.tdrstyle as tdrstyle\n",
    "\n",
    "ROOT.gROOT.SetBatch(ROOT.kTRUE)\n",
    "ROOT.gROOT.ProcessLine(\"gErrorIgnoreLevel = 1001;\")\n",
    "tdrstyle.setTDRStyle()\n",
    "ROOT.gStyle.SetPalette(1)\n",
    "\n",
    "cmssw_base = os.environ['CMSSW_BASE']\n",
    "\n",
    "import rootnotes\n",
    "import rootprint\n",
    "canvas = rootnotes.default_canvas()"
   ]
  },
  {
   "cell_type": "code",
   "execution_count": 2,
   "metadata": {
    "collapsed": true
   },
   "outputs": [],
   "source": [
    "def setStyle(pad,position=11,preliminary=True):\n",
    "    period_int = 4\n",
    "    CMS_lumi.wrtieExtraText = preliminary\n",
    "    CMS_lumi.extraText = \"Preliminary\"\n",
    "    CMS_lumi.lumi_13TeV = \"%0.1f fb^{-1}\" % (float(2318)/1000.)\n",
    "    CMS_lumi.CMS_lumi(pad,period_int,position)\n"
   ]
  },
  {
   "cell_type": "code",
   "execution_count": 135,
   "metadata": {
    "collapsed": false
   },
   "outputs": [
    {
     "name": "stdout",
     "output_type": "stream",
     "text": [
      "[#1] INFO:DataHandling -- RooDataHist::adjustBinning(d): fit range of variable x expanded to nearest bin boundaries: [100,1200] --> [100,1200]\n",
      "[#1] INFO:InputArguments -- RooAbsData::plotOn(d) INFO: dataset has non-integer weights, auto-selecting SumW2 errors instead of Poisson errors\n",
      "[#0] WARNING:InputArguments -- RooAbsPdf::fitTo(model) WARNING: a likelihood fit is request of what appears to be weighted data. \n",
      "       While the estimated values of the parameters will always be calculated taking the weights into account, \n",
      "       there are multiple ways to estimate the errors on these parameter values. You are advised to make an \n",
      "       explicit choice on the error calculation: \n",
      "           - Either provide SumW2Error(kTRUE), to calculate a sum-of-weights corrected HESSE error matrix \n",
      "             (error will be proportional to the number of events)\n",
      "           - Or provide SumW2Error(kFALSE), to return errors from original HESSE error matrix\n",
      "             (which will be proportional to the sum of the weights)\n",
      "       If you want the errors to reflect the information contained in the provided dataset, choose kTRUE. \n",
      "       If you want the errors to reflect the precision you would be able to obtain with an unweighted dataset \n",
      "       with 'sum-of-weights' events, choose kFALSE.\n",
      "[#1] INFO:Minization -- p.d.f. provides expected number of events, including extended term in likelihood.\n",
      "[#1] INFO:NumericIntegration -- RooRealIntegral::init(sig_Int[x]) using numeric integrator RooIntegrator1D to calculate Int(x)\n",
      "[#1] INFO:Minization -- RooMinuit::optimizeConst: activating const optimization\n",
      "[#1] INFO:NumericIntegration -- RooRealIntegral::init(sig_Int[x]) using numeric integrator RooIntegrator1D to calculate Int(x)\n",
      "[#1] INFO:Minization --  The following expressions will be evaluated in cache-and-track mode: (bg,sig)\n",
      " **********\n",
      " **   13 **MIGRAD        3000           1\n",
      " **********\n",
      " FIRST CALL TO USER FUNCTION AT NEW START POINT, WITH IFLAG=4.\n",
      " START MIGRAD MINIMIZATION.  STRATEGY  1.  CONVERGENCE WHEN EDM .LT. 1.00e-03\n",
      " FCN=122.388 FROM MIGRAD    STATUS=INITIATE       68 CALLS          69 TOTAL\n",
      "                     EDM= unknown      STRATEGY= 1      NO ERROR MATRIX       \n",
      "  EXT PARAMETER               CURRENT GUESS       STEP         FIRST   \n",
      "  NO.   NAME      VALUE            ERROR          SIZE      DERIVATIVE \n",
      "   1  bgscale      5.00000e+01   1.00000e+01   0.00000e+00   3.48941e+01\n",
      "   2  decay       -8.65405e-03   1.00000e+00   0.00000e+00   2.21784e+02\n",
      "   3  mean         5.00000e+02   4.00000e+00   0.00000e+00   1.77716e-01\n",
      "   4  sigma        9.99770e-01   1.00000e-01   1.60111e+00   4.34013e-06\n",
      "   5  sigscale     5.00000e+01   1.00000e+01   0.00000e+00   4.89039e+01\n",
      "   6  width        2.50000e+01   5.00000e+00   0.00000e+00  -3.49523e-01\n",
      "                               ERR DEF= 0.5\n",
      " MIGRAD MINIMIZATION HAS CONVERGED.\n",
      " FCN=58.4479 FROM MIGRAD    STATUS=CONVERGED     264 CALLS         265 TOTAL\n",
      "                     EDM=1.63856e-05    STRATEGY= 1  ERROR MATRIX UNCERTAINTY   2.0 per cent\n",
      "  EXT PARAMETER                                   STEP         FIRST   \n",
      "  NO.   NAME      VALUE            ERROR          SIZE      DERIVATIVE \n",
      "   1  bgscale      1.53973e+01   3.61433e+00  -2.29713e-03  -6.92190e-03\n",
      "   2  decay       -1.46315e-02   4.07939e-03   2.61122e-04   6.86259e-02\n",
      "   3  mean         4.97712e+02   2.86770e+01   1.96335e-03  -9.55785e-04\n",
      "   4  sigma        3.59658e-01   6.57138e-01  -5.68119e-01   6.28337e-05\n",
      "   5  sigscale     8.06684e-01   1.06175e+00   4.67892e-03   3.28681e-03\n",
      "   6  width        3.20201e+01   2.83172e+01  -4.00622e-02   7.54754e-05\n",
      "                               ERR DEF= 0.5\n",
      " EXTERNAL ERROR MATRIX.    NDIM=  25    NPAR=  6    ERR DEF=0.5\n",
      "  1.311e+01 -4.108e-03 -4.946e+00  6.792e+00 -4.437e-01  2.541e+01 \n",
      " -4.108e-03  1.664e-05  7.477e-03 -9.959e-04  1.208e-03 -9.428e-02 \n",
      " -4.946e+00  7.477e-03  6.335e+02  1.895e+01  2.758e+00 -1.514e+02 \n",
      "  6.792e+00 -9.959e-04  1.895e+01  1.660e+03 -2.173e+00 -4.790e+02 \n",
      " -4.437e-01  1.208e-03  2.758e+00 -2.173e+00  1.133e+00 -2.446e+01 \n",
      "  2.541e+01 -9.428e-02 -1.514e+02 -4.790e+02 -2.446e+01  6.819e+03 \n",
      " PARAMETER  CORRELATION COEFFICIENTS  \n",
      "       NO.  GLOBAL      1      2      3      4      5      6\n",
      "        1  0.28591   1.000 -0.278 -0.054  0.046 -0.115  0.085\n",
      "        2  0.42263  -0.278  1.000  0.073 -0.006  0.278 -0.280\n",
      "        3  0.12432  -0.054  0.073  1.000  0.018  0.103 -0.073\n",
      "        4  0.17910   0.046 -0.006  0.018  1.000 -0.050 -0.142\n",
      "        5  0.36577  -0.115  0.278  0.103 -0.050  1.000 -0.278\n",
      "        6  0.38316   0.085 -0.280 -0.073 -0.142 -0.278  1.000\n",
      " **********\n",
      " **   18 **HESSE        3000\n",
      " **********\n",
      " COVARIANCE MATRIX CALCULATED SUCCESSFULLY\n",
      " FCN=58.4479 FROM HESSE     STATUS=OK             42 CALLS         307 TOTAL\n",
      "                     EDM=4.38562e-05    STRATEGY= 1      ERROR MATRIX ACCURATE \n",
      "  EXT PARAMETER                                INTERNAL      INTERNAL  \n",
      "  NO.   NAME      VALUE            ERROR       STEP SIZE       VALUE   \n",
      "   1  bgscale      1.53973e+01   3.95848e+00   5.78116e-04  -2.37726e+00\n",
      "   2  decay       -1.46315e-02   4.44769e-03   5.76229e-05   1.49428e+00\n",
      "   3  mean         4.97712e+02   2.86763e+01   6.72430e-03  -1.14674e-01\n",
      "   4  sigma        3.59658e-01   6.20824e-01   5.00000e-01   5.99868e+00\n",
      "   5  sigscale     8.06684e-01   1.06519e+00   5.89872e-04  -8.03386e+00\n",
      "   6  width        3.20201e+01   3.43872e+01   1.49270e-02   2.84632e-01\n",
      "                               ERR DEF= 0.5\n",
      " EXTERNAL ERROR MATRIX.    NDIM=  25    NPAR=  6    ERR DEF=0.5\n",
      "  1.573e+01 -1.355e-03 -2.743e+00 -3.999e-01 -3.339e-01  2.288e+01 \n",
      " -1.355e-03  1.978e-05  9.621e-03  1.533e-03  1.356e-03 -9.004e-02 \n",
      " -2.743e+00  9.621e-03  6.331e+02 -8.807e-01  2.741e+00 -2.559e+02 \n",
      " -3.999e-01  1.533e-03 -8.807e-01  2.421e+03  3.995e-01 -1.412e+02 \n",
      " -3.339e-01  1.356e-03  2.741e+00  3.995e-01  1.140e+00 -2.287e+01 \n",
      "  2.288e+01 -9.004e-02 -2.559e+02 -1.412e+02 -2.287e+01  4.965e+03 \n",
      " PARAMETER  CORRELATION COEFFICIENTS  \n",
      "       NO.  GLOBAL      1      2      3      4      5      6\n",
      "        1  0.10953   1.000 -0.077 -0.027 -0.002 -0.079  0.082\n",
      "        2  0.35855  -0.077  1.000  0.086  0.007  0.285 -0.287\n",
      "        3  0.16084  -0.027  0.086  1.000 -0.001  0.102 -0.144\n",
      "        4  0.04171  -0.002  0.007 -0.001  1.000  0.008 -0.041\n",
      "        5  0.37331  -0.079  0.285  0.102  0.008  1.000 -0.304\n",
      "        6  0.38712   0.082 -0.287 -0.144 -0.041 -0.304  1.000\n",
      "[#1] INFO:Minization -- RooMinuit::optimizeConst: deactivating const optimization\n",
      "[#1] INFO:NumericIntegration -- RooRealIntegral::init(sig_Int[x]) using numeric integrator RooIntegrator1D to calculate Int(x)\n",
      "[#1] INFO:Plotting -- RooAbsPdf::plotOn(model) directly selected PDF components: (bg)\n",
      "[#1] INFO:Plotting -- RooAbsPdf::plotOn(model) indirectly selected PDF components: ()\n",
      "[#1] INFO:NumericIntegration -- RooRealIntegral::init(sig_Int[x]) using numeric integrator RooIntegrator1D to calculate Int(x)\n",
      "[#1] INFO:Plotting -- RooAbsPdf::plotOn(model) directly selected PDF components: (sig)\n",
      "[#1] INFO:Plotting -- RooAbsPdf::plotOn(model) indirectly selected PDF components: ()\n",
      "[#1] INFO:NumericIntegration -- RooRealIntegral::init(sig_Int[x]) using numeric integrator RooIntegrator1D to calculate Int(x)\n",
      "\n"
     ]
    }
   ],
   "source": [
    "#%%rootprint\n",
    "\n",
    "hppFile = '{0}/src/flat/Hpp4l/HPlusPlusHMinusMinusHTo4L_M-500_13TeV-pythia8.root'.format(cmssw_base)\n",
    "zzFile = '{0}/src/flat/Hpp4l/ZZTo4L_13TeV_powheg_pythia8.root'.format(cmssw_base)\n",
    "histName = 'default/hppMass'\n",
    "hpptfile = ROOT.TFile.Open(hppFile,'READ')\n",
    "zztfile = ROOT.TFile.Open(zzFile,'READ')\n",
    "hppHist = hpptfile.Get(histName).Rebin(10)\n",
    "zzHist = zztfile.Get(histName).Rebin(10)\n",
    "\n",
    "stack = ROOT.THStack('stack','stack')\n",
    "stack.Add(zzHist)\n",
    "stack.Add(hppHist)\n",
    "\n",
    "hist = stack.GetStack().Last()\n",
    "\n",
    "hist.GetXaxis().SetTitle('m_{l^{+}l^{+}} (GeV)')\n",
    "hist.GetYaxis().SetTitle('Events/10.0 GeV')\n",
    "\n",
    "w = ROOT.RooWorkspace()\n",
    "w.factory('Exponential::bg(x[100,1200],decay[-10.,0])')\n",
    "w.factory('RooVoigtian::sig(x,mean[480,520],width[0,50],sigma[0,1])')\n",
    "#w.factory('RooCBShape::sig(x,mean[480,520],sigma[0,25],a[0,100],n[0,100])')\n",
    "w.factory('SUM::model(bgscale[0,100]*bg,sigscale[0,100]*sig)')\n",
    "\n",
    "\n",
    "x = w.var('x')\n",
    "model = w.pdf('model')\n",
    "\n",
    "frame = x.frame()\n",
    "\n",
    "datahist = ROOT.RooDataHist('d','d',ROOT.RooArgList(x),hist)\n",
    "datahist.plotOn(frame)\n",
    "\n",
    "model.fitTo(datahist,ROOT.RooFit.Save())\n",
    "model.plotOn(frame)\n",
    "model.plotOn(frame,ROOT.RooFit.Components('bg'),ROOT.RooFit.LineColor(ROOT.kGreen))\n",
    "model.plotOn(frame,ROOT.RooFit.Components('sig'),ROOT.RooFit.LineColor(ROOT.kRed))\n",
    "\n",
    "\n",
    "#frame.Draw()\n",
    "\n",
    "hist.SetMarkerStyle(20)\n",
    "hist.SetMarkerSize(1)\n",
    "hist.Draw(\"e0\")\n",
    "fit = frame.getObject(1)\n",
    "bgplot = frame.getObject(2)\n",
    "sigplot = frame.getObject(3)\n",
    "\n",
    "bgplot.Draw(\"same\")\n",
    "sigplot.Draw(\"same\")\n",
    "fit.Draw(\"same\")\n",
    "\n",
    "setStyle(canvas)\n",
    "\n"
   ]
  },
  {
   "cell_type": "code",
   "execution_count": 136,
   "metadata": {
    "collapsed": false
   },
   "outputs": [
    {
     "data": {
      "image/png": "[encoded data removed]",
      "text/plain": [
       "<ROOT.TCanvas object (\"icanvas\") at 0x6353310>"
      ]
     },
     "execution_count": 136,
     "metadata": {},
     "output_type": "execute_result"
    }
   ],
   "source": [
    "#print 'decay', w.var('decay').getVal()\n",
    "#print 'mean', w.var('mean').getVal()\n",
    "#print 'sigma', w.var('sigma').getVal()\n",
    "#print 'width', w.var('width').getVal()\n",
    "#print 'sigscale', w.var('sigscale').getVal()\n",
    "#print 'bgscale', w.var('bgscale').getVal()\n",
    "canvas.SetLogy(1)\n",
    "canvas"
   ]
  },
  {
   "cell_type": "code",
   "execution_count": 4,
   "metadata": {
    "collapsed": false
   },
   "outputs": [],
   "source": [
    "# load fiducial\n",
    "masses = [200,300,400,500,600,700,800,900,1000]\n",
    "genChannels = []\n",
    "higgsChannels = ['ee','em','et','mm','mt','tt']\n",
    "for hpp in higgsChannels:\n",
    "    for hmm in higgsChannels:\n",
    "        genChannels += [hpp+hmm]\n",
    "\n",
    "fiducials = {}\n",
    "decays = {}\n",
    "for chan in genChannels:\n",
    "    fiducials[chan] = []\n",
    "    decays[chan] = []\n",
    "\n",
    "for mass in masses:\n",
    "    genfile = '{0}/src/jsons/Hpp4l/genCounts.{1}.json'.format(cmssw_base, mass)\n",
    "    recofile = '{0}/src/jsons/Hpp4l/recoCounts.{1}.json'.format(cmssw_base, mass)\n",
    "    with open(genfile) as f:\n",
    "        gen = json.load(f)\n",
    "    with open(recofile) as f:\n",
    "        reco = json.load(f)\n",
    "    for chan in genChannels:\n",
    "        fiducials[chan] += [gen['fiducial'][chan]]\n",
    "        decays[chan] += [gen['decay'][chan]]\n"
   ]
  },
  {
   "cell_type": "code",
   "execution_count": 81,
   "metadata": {
    "collapsed": false
   },
   "outputs": [
    {
     "name": "stderr",
     "output_type": "stream",
     "text": [
      "TROOT::Append:0: RuntimeWarning: Replacing existing TH1: ah (Potential memory leak).\n"
     ]
    },
    {
     "data": {
      "image/png": "[encoded data removed]",
      "text/plain": [
       "<ROOT.TCanvas object (\"icanvas\") at 0x6126e30>"
      ]
     },
     "execution_count": 81,
     "metadata": {},
     "output_type": "execute_result"
    }
   ],
   "source": [
    "acceptance = ROOT.TGraph(len(masses))\n",
    "acceptHist = ROOT.TH1F('ah','ah',9,150,1050)\n",
    "for i in range(len(masses)):\n",
    "    num = sum([fiducials[chan][i] for chan in genChannels if 't' not in chan])\n",
    "    denom = sum([decays[chan][i] for chan in genChannels if 't' not in chan])\n",
    "    eff = float(num)/denom if denom else 0.\n",
    "    err = eff * (float(num)/num**2+float(denom)/denom**2)**0.5\n",
    "    acceptance.SetPoint(i,masses[i],eff)\n",
    "    acceptHist.SetBinContent(i+1,eff)\n",
    "    acceptHist.SetBinError(i+1,err)\n",
    "    \n",
    "\n",
    "\n",
    "x = ROOT.RooRealVar('x','x',200,1000)\n",
    "frame = x.frame()\n",
    "a = ROOT.RooRealVar('a','a',0.7,0.9)\n",
    "b = ROOT.RooRealVar('b','b',0,100)\n",
    "c = ROOT.RooRealVar('c','c',0,500)\n",
    "effFunc = ROOT.RooFormulaVar('effFunc','a/(1+exp(-(x-b)/c))',ROOT.RooArgList(a,b,c,x))\n",
    "cut = ROOT.RooCategory('cut','cutr')\n",
    "cut.defineType('accept',1)\n",
    "cut.defineType('reject',0)\n",
    "effPdf = ROOT.RooEfficiency('effPdf','effPdf',effFunc,cut,'accept')\n",
    "datahist = ROOT.RooDataHist('d','d',ROOT.RooArgList(x),acceptHist)\n",
    "effPdf.fitTo(datahist,ROOT.RooFit.Save())\n",
    "datahist.plotOn(frame)\n",
    "effPdf.plotOn(frame)\n",
    "\n",
    "frame.Draw()\n",
    "\n",
    "#acceptHist.Draw('p')\n",
    "#acceptance.Draw(\"p\")\n",
    "#acceptance.GetXaxis().SetTitle('m_{#Phi^{#pm#pm}} (GeV)')\n",
    "#acceptance.GetYaxis().SetTitle('Acceptance')\n",
    "#fit = frame.getObject(1)\n",
    "#fit.Draw('same')\n",
    "\n",
    "setStyle(canvas)\n",
    "\n",
    "canvas"
   ]
  },
  {
   "cell_type": "code",
   "execution_count": 78,
   "metadata": {
    "collapsed": false
   },
   "outputs": [
    {
     "name": "stdout",
     "output_type": "stream",
     "text": [
      "0.75205744614\n",
      "0.272956473975\n",
      "1205.05400677\n"
     ]
    }
   ],
   "source": [
    "print a.getVal()\n",
    "print b.getVal()\n",
    "print c.getVal()"
   ]
  },
  {
   "cell_type": "code",
   "execution_count": null,
   "metadata": {
    "collapsed": true
   },
   "outputs": [],
   "source": []
  }
 ],
 "metadata": {
  "kernelspec": {
   "display_name": "Python 2",
   "language": "python",
   "name": "python2"
  },
  "language_info": {
   "codemirror_mode": {
    "name": "ipython",
    "version": 2
   },
   "file_extension": ".py",
   "mimetype": "text/x-python",
   "name": "python",
   "nbconvert_exporter": "python",
   "pygments_lexer": "ipython2",
   "version": "2.7.6"
  }
 },
 "nbformat": 4,
 "nbformat_minor": 0
}
